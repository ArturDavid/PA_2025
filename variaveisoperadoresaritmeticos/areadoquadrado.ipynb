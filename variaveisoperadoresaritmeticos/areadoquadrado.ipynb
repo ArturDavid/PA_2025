{
  "nbformat": 4,
  "nbformat_minor": 0,
  "metadata": {
    "colab": {
      "provenance": [],
      "authorship_tag": "ABX9TyPGeDiM5oPDYOt5njCSHrOt",
      "include_colab_link": true
    },
    "kernelspec": {
      "name": "python3",
      "display_name": "Python 3"
    },
    "language_info": {
      "name": "python"
    }
  },
  "cells": [
    {
      "cell_type": "markdown",
      "metadata": {
        "id": "view-in-github",
        "colab_type": "text"
      },
      "source": [
        "<a href=\"https://colab.research.google.com/github/ArturDavid/PA_2025/blob/main/variaveisoperadoresaritmeticos/areadoquadrado.ipynb\" target=\"_parent\"><img src=\"https://colab.research.google.com/assets/colab-badge.svg\" alt=\"Open In Colab\"/></a>"
      ]
    },
    {
      "cell_type": "code",
      "execution_count": null,
      "metadata": {
        "id": "3Hj9-Nq7VuVS"
      },
      "outputs": [],
      "source": [
        "aula = 'hello world'"
      ]
    },
    {
      "cell_type": "code",
      "source": [
        "print (aula)"
      ],
      "metadata": {
        "colab": {
          "base_uri": "https://localhost:8080/"
        },
        "id": "wugW8-L1V_hp",
        "outputId": "294d67da-1e93-4763-91e8-75484b04dce8"
      },
      "execution_count": null,
      "outputs": [
        {
          "output_type": "stream",
          "name": "stdout",
          "text": [
            "hello world\n"
          ]
        }
      ]
    },
    {
      "cell_type": "code",
      "source": [
        "#entrada\n",
        "lado = 4"
      ],
      "metadata": {
        "id": "Fz3ZAaeOZcx0"
      },
      "execution_count": null,
      "outputs": []
    },
    {
      "cell_type": "code",
      "source": [
        "#processamento\n",
        "area = lado * lado"
      ],
      "metadata": {
        "id": "xEdIP_p4ZdeW"
      },
      "execution_count": null,
      "outputs": []
    },
    {
      "cell_type": "code",
      "source": [
        "#saida\n",
        "print(\"a area do quadrado é\",area)"
      ],
      "metadata": {
        "colab": {
          "base_uri": "https://localhost:8080/"
        },
        "id": "bt4I_bbuZdl_",
        "outputId": "9986e7bc-161d-40f5-9a4c-786f6849ee6a"
      },
      "execution_count": null,
      "outputs": [
        {
          "output_type": "stream",
          "name": "stdout",
          "text": [
            "a area do quadrado é 16\n"
          ]
        }
      ]
    }
  ]
}