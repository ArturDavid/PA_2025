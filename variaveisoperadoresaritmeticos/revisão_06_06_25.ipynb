{
  "nbformat": 4,
  "nbformat_minor": 0,
  "metadata": {
    "colab": {
      "provenance": [],
      "authorship_tag": "ABX9TyPmeWzBsoNfhZqSwLLAD4YA",
      "include_colab_link": true
    },
    "kernelspec": {
      "name": "python3",
      "display_name": "Python 3"
    },
    "language_info": {
      "name": "python"
    }
  },
  "cells": [
    {
      "cell_type": "markdown",
      "metadata": {
        "id": "view-in-github",
        "colab_type": "text"
      },
      "source": [
        "<a href=\"https://colab.research.google.com/github/ArturDavid/PA_2025/blob/main/revis%C3%A3o_06_06_25.ipynb\" target=\"_parent\"><img src=\"https://colab.research.google.com/assets/colab-badge.svg\" alt=\"Open In Colab\"/></a>"
      ]
    },
    {
      "cell_type": "markdown",
      "source": [
        "##1) número positivo ou negativo"
      ],
      "metadata": {
        "id": "stx437m7Qk1U"
      }
    },
    {
      "cell_type": "code",
      "execution_count": 44,
      "metadata": {
        "colab": {
          "base_uri": "https://localhost:8080/",
          "height": 356
        },
        "id": "AfGuOzvUPhqf",
        "outputId": "73ad7664-5bf0-4cbe-8146-56d4b79a98bc"
      },
      "outputs": [
        {
          "output_type": "error",
          "ename": "KeyboardInterrupt",
          "evalue": "Interrupted by user",
          "traceback": [
            "\u001b[0;31m---------------------------------------------------------------------------\u001b[0m",
            "\u001b[0;31mKeyboardInterrupt\u001b[0m                         Traceback (most recent call last)",
            "\u001b[0;32m<ipython-input-44-352212af724d>\u001b[0m in \u001b[0;36m<cell line: 0>\u001b[0;34m()\u001b[0m\n\u001b[1;32m      1\u001b[0m \u001b[0;31m#entrada\u001b[0m\u001b[0;34m\u001b[0m\u001b[0;34m\u001b[0m\u001b[0m\n\u001b[1;32m      2\u001b[0m \u001b[0;34m\u001b[0m\u001b[0m\n\u001b[0;32m----> 3\u001b[0;31m \u001b[0mnum\u001b[0m \u001b[0;34m=\u001b[0m \u001b[0mint\u001b[0m\u001b[0;34m(\u001b[0m\u001b[0minput\u001b[0m\u001b[0;34m(\u001b[0m\u001b[0;34m\"Digite um número\"\u001b[0m\u001b[0;34m)\u001b[0m\u001b[0;34m)\u001b[0m\u001b[0;34m\u001b[0m\u001b[0;34m\u001b[0m\u001b[0m\n\u001b[0m\u001b[1;32m      4\u001b[0m \u001b[0;34m\u001b[0m\u001b[0m\n\u001b[1;32m      5\u001b[0m \u001b[0;32mif\u001b[0m \u001b[0;34m(\u001b[0m\u001b[0mnum\u001b[0m\u001b[0;34m<\u001b[0m\u001b[0;36m0\u001b[0m\u001b[0;34m)\u001b[0m\u001b[0;34m:\u001b[0m\u001b[0;34m\u001b[0m\u001b[0;34m\u001b[0m\u001b[0m\n",
            "\u001b[0;32m/usr/local/lib/python3.11/dist-packages/ipykernel/kernelbase.py\u001b[0m in \u001b[0;36mraw_input\u001b[0;34m(self, prompt)\u001b[0m\n\u001b[1;32m   1175\u001b[0m                 \u001b[0;34m\"raw_input was called, but this frontend does not support input requests.\"\u001b[0m\u001b[0;34m\u001b[0m\u001b[0;34m\u001b[0m\u001b[0m\n\u001b[1;32m   1176\u001b[0m             )\n\u001b[0;32m-> 1177\u001b[0;31m         return self._input_request(\n\u001b[0m\u001b[1;32m   1178\u001b[0m             \u001b[0mstr\u001b[0m\u001b[0;34m(\u001b[0m\u001b[0mprompt\u001b[0m\u001b[0;34m)\u001b[0m\u001b[0;34m,\u001b[0m\u001b[0;34m\u001b[0m\u001b[0;34m\u001b[0m\u001b[0m\n\u001b[1;32m   1179\u001b[0m             \u001b[0mself\u001b[0m\u001b[0;34m.\u001b[0m\u001b[0m_parent_ident\u001b[0m\u001b[0;34m[\u001b[0m\u001b[0;34m\"shell\"\u001b[0m\u001b[0;34m]\u001b[0m\u001b[0;34m,\u001b[0m\u001b[0;34m\u001b[0m\u001b[0;34m\u001b[0m\u001b[0m\n",
            "\u001b[0;32m/usr/local/lib/python3.11/dist-packages/ipykernel/kernelbase.py\u001b[0m in \u001b[0;36m_input_request\u001b[0;34m(self, prompt, ident, parent, password)\u001b[0m\n\u001b[1;32m   1217\u001b[0m             \u001b[0;32mexcept\u001b[0m \u001b[0mKeyboardInterrupt\u001b[0m\u001b[0;34m:\u001b[0m\u001b[0;34m\u001b[0m\u001b[0;34m\u001b[0m\u001b[0m\n\u001b[1;32m   1218\u001b[0m                 \u001b[0;31m# re-raise KeyboardInterrupt, to truncate traceback\u001b[0m\u001b[0;34m\u001b[0m\u001b[0;34m\u001b[0m\u001b[0m\n\u001b[0;32m-> 1219\u001b[0;31m                 \u001b[0;32mraise\u001b[0m \u001b[0mKeyboardInterrupt\u001b[0m\u001b[0;34m(\u001b[0m\u001b[0;34m\"Interrupted by user\"\u001b[0m\u001b[0;34m)\u001b[0m \u001b[0;32mfrom\u001b[0m \u001b[0;32mNone\u001b[0m\u001b[0;34m\u001b[0m\u001b[0;34m\u001b[0m\u001b[0m\n\u001b[0m\u001b[1;32m   1220\u001b[0m             \u001b[0;32mexcept\u001b[0m \u001b[0mException\u001b[0m\u001b[0;34m:\u001b[0m\u001b[0;34m\u001b[0m\u001b[0;34m\u001b[0m\u001b[0m\n\u001b[1;32m   1221\u001b[0m                 \u001b[0mself\u001b[0m\u001b[0;34m.\u001b[0m\u001b[0mlog\u001b[0m\u001b[0;34m.\u001b[0m\u001b[0mwarning\u001b[0m\u001b[0;34m(\u001b[0m\u001b[0;34m\"Invalid Message:\"\u001b[0m\u001b[0;34m,\u001b[0m \u001b[0mexc_info\u001b[0m\u001b[0;34m=\u001b[0m\u001b[0;32mTrue\u001b[0m\u001b[0;34m)\u001b[0m\u001b[0;34m\u001b[0m\u001b[0;34m\u001b[0m\u001b[0m\n",
            "\u001b[0;31mKeyboardInterrupt\u001b[0m: Interrupted by user"
          ]
        }
      ],
      "source": [
        "#entrada\n",
        "\n",
        "num = int(input(\"Digite um número\"))\n",
        "\n",
        "if (num<0):\n",
        "  print(\"o número é 0 ou negativo\")\n",
        "\n",
        "else:\n",
        "  print(\"o número é positivo\")\n"
      ]
    },
    {
      "cell_type": "markdown",
      "source": [
        "##2)Par ou ímpar"
      ],
      "metadata": {
        "id": "mkK-iPGwRJwg"
      }
    },
    {
      "cell_type": "code",
      "source": [
        "#entrada\n",
        "\n",
        "num = int(input(\"Digite um número aí\"))\n",
        "\n",
        "if(num%2==0):\n",
        "  print(\"o seu número é par\")\n",
        "\n",
        "else:\n",
        "  print(\"o seu número é ímpar\")\n"
      ],
      "metadata": {
        "id": "8IThH5L5RN7A"
      },
      "execution_count": null,
      "outputs": []
    },
    {
      "cell_type": "markdown",
      "source": [
        "##3)Maior ou menor de idade"
      ],
      "metadata": {
        "id": "T0bytsIFQiTd"
      }
    },
    {
      "cell_type": "code",
      "source": [
        "#entrada\n",
        "id=int(input('Digite a sua idade '))\n",
        "\n",
        "if id < 18:\n",
        "  print('Menor de idade')\n",
        "\n",
        "else:\n",
        "  print('Maior de idade')"
      ],
      "metadata": {
        "id": "su2QSozjVYg7"
      },
      "execution_count": null,
      "outputs": []
    },
    {
      "cell_type": "markdown",
      "source": [
        "##4)Senha correta\n",
        "\n"
      ],
      "metadata": {
        "id": "aSu76qmoVgbr"
      }
    },
    {
      "cell_type": "code",
      "source": [
        "#entrada\n",
        "sc = int(input(\"Digite sua senha \"))\n",
        "\n",
        "if sc==1234:\n",
        "  print(\"Senha correta\")\n",
        "\n",
        "else:\n",
        "  print(\"Senha Incorreta\"])"
      ],
      "metadata": {
        "id": "LbxSRCLLVneo"
      },
      "execution_count": null,
      "outputs": []
    },
    {
      "cell_type": "markdown",
      "source": [
        "##5)Nota e aprovação"
      ],
      "metadata": {
        "id": "wFq5W3s5V5I0"
      }
    },
    {
      "cell_type": "code",
      "source": [
        "#entrada\n",
        "nota = int(input(\"digite a sua nota\"))\n",
        "\n",
        "if nota < 6:\n",
        "  print(\"reprovado meu maninho ):\")\n",
        "\n",
        "else:\n",
        "  print(\"aprovado meu manoloooooooo!!! (: )\")"
      ],
      "metadata": {
        "id": "P7P0LKMBV-MT"
      },
      "execution_count": null,
      "outputs": []
    },
    {
      "cell_type": "markdown",
      "source": [
        "##6)Múltiplo de 3 e/ou 5"
      ],
      "metadata": {
        "id": "eEKa1i-5Wp1i"
      }
    },
    {
      "cell_type": "code",
      "source": [
        "#entrada\n",
        "\n",
        "num = int(input(\"digite um número\"))\n",
        "\n",
        "if num %3:\n",
        "  print(\"o número é múltiplo de 3 ou 5\")\n",
        "\n",
        "else:\n",
        "  print(\"o número não é múltiplo de 3 ou 5\")\n"
      ],
      "metadata": {
        "id": "uzJresJMW0TO"
      },
      "execution_count": null,
      "outputs": []
    },
    {
      "cell_type": "markdown",
      "source": [
        "##7) Número dentro de intervalo"
      ],
      "metadata": {
        "id": "JH6U0-oMX9CV"
      }
    },
    {
      "cell_type": "code",
      "source": [
        "#entrada\n",
        "num = int(input(\"coloca um número aí meu mano\"))\n",
        "\n",
        "\n",
        "if num >20:\n",
        "  print(\"o seu número está errado\")\n",
        "elif num <10:\n",
        "  print(\"o seu número está errado\")\n",
        "else:\n",
        "  print(\"o seu número está no intervalo\")\n",
        "\n"
      ],
      "metadata": {
        "id": "FW7cF1QCYZzG"
      },
      "execution_count": null,
      "outputs": []
    },
    {
      "cell_type": "markdown",
      "source": [
        "##8)Classificação do triângulo"
      ],
      "metadata": {
        "id": "M_2_E71pa6-K"
      }
    },
    {
      "cell_type": "code",
      "source": [
        "#entrada\n",
        "\n",
        "L1 = int(input(\"digite o primeiro número\"))\n",
        "L2 = int(input(\"digite o segundo número\"))\n",
        "L3 = int(input(\"digite o terceiro número\"))\n",
        "\n",
        "if L1 == L2 == L3:\n",
        "  print(\"o triângulo é equilátero\")\n",
        "\n",
        "elif L1!=L2!=L3:\n",
        "  print(\"o triângulo é escaleno\")\n",
        "\n",
        "elif L1==L2!=L3 or L1!=L2==L3 or L1==L3!=L2:\n",
        "  print(\"o triângulo é isóseles\")\n",
        "else:\n",
        "  print(\"não um triângulo\")"
      ],
      "metadata": {
        "colab": {
          "base_uri": "https://localhost:8080/"
        },
        "id": "EaHodaUxbNne",
        "outputId": "cdcaf1a5-1c25-4685-ea4f-907af5cb704d"
      },
      "execution_count": 61,
      "outputs": [
        {
          "output_type": "stream",
          "name": "stdout",
          "text": [
            "digite o primeiro número7\n",
            "digite o segundo número7\n",
            "digite o terceiro número8\n",
            "o triângulo é isóseles\n"
          ]
        }
      ]
    }
  ]
}