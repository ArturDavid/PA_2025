{
  "nbformat": 4,
  "nbformat_minor": 0,
  "metadata": {
    "colab": {
      "provenance": [],
      "authorship_tag": "ABX9TyOTY2uTUKmDac8+LjNX1iGu",
      "include_colab_link": true
    },
    "kernelspec": {
      "name": "python3",
      "display_name": "Python 3"
    },
    "language_info": {
      "name": "python"
    }
  },
  "cells": [
    {
      "cell_type": "markdown",
      "metadata": {
        "id": "view-in-github",
        "colab_type": "text"
      },
      "source": [
        "<a href=\"https://colab.research.google.com/github/ArturDavid/PA_2025/blob/main/Atividades_PA_25_04.ipynb\" target=\"_parent\"><img src=\"https://colab.research.google.com/assets/colab-badge.svg\" alt=\"Open In Colab\"/></a>"
      ]
    },
    {
      "cell_type": "code",
      "execution_count": null,
      "metadata": {
        "id": "lkvAH51d02zc"
      },
      "outputs": [],
      "source": []
    },
    {
      "cell_type": "markdown",
      "source": [
        "#Atividades 25.04\n",
        "##Valor par ou ímpar\n"
      ],
      "metadata": {
        "id": "E6s7rup62gHQ"
      }
    },
    {
      "cell_type": "code",
      "source": [
        "#entrada\n",
        "print(\"digite um número\")\n",
        "numero = int(input(\"digite um número\"))\n",
        "\n",
        "#processamento\n",
        "par =(numero%2 == 0)\n",
        "impar =(numero%2 == 1)\n",
        "\n",
        "#saida\n",
        "print(\"este número é par?\",par)\n",
        "print(\"este número é ímpar?\",impar)"
      ],
      "metadata": {
        "colab": {
          "base_uri": "https://localhost:8080/"
        },
        "id": "y94t_Wmu2l74",
        "outputId": "09a91f4c-fbcf-4ecc-c6a2-21355aa5c826"
      },
      "execution_count": null,
      "outputs": [
        {
          "output_type": "stream",
          "name": "stdout",
          "text": [
            "digite um número\n",
            "digite um número9\n",
            "este número é par? False\n",
            "este número é ímpar? True\n"
          ]
        }
      ]
    },
    {
      "cell_type": "markdown",
      "source": [
        "##Lados de um triângulo\n"
      ],
      "metadata": {
        "id": "8yvFJKHKCCqk"
      }
    },
    {
      "cell_type": "code",
      "source": [
        "#entrada\n",
        "L1 = float(input(\"digite o primeiro lado\"))\n",
        "L2 = float(input(\"digite o segundo lado\"))\n",
        "L3 = float(input(\"digite o terceiro lado\"))\n",
        "\n",
        "#processamento\n",
        "triangulo = (L1+L2>L3) and (L1+L3>L2) and (L2+L3>L1)\n",
        "equilatero = (L1==L2==L3)\n",
        "isoceles = (L1 == L2 or L1 == L3 or L2 == L3)\n",
        "escaleno = (L1!=L2!=L3)\n",
        "\n",
        "#saída\n",
        "print(\"é um triângulo?\",triangulo)\n",
        "print(\"é um triângulo equilátero?\",equilatero)\n",
        "print(\"é um triângulo isósceles?\",isoceles)\n",
        "print(\"é um triângulo escaleno?\",escaleno)"
      ],
      "metadata": {
        "colab": {
          "base_uri": "https://localhost:8080/"
        },
        "id": "HSoGPLMoCGoi",
        "outputId": "0c690d76-c113-41c9-f9e7-c0ead18b91d7"
      },
      "execution_count": null,
      "outputs": [
        {
          "output_type": "stream",
          "name": "stdout",
          "text": [
            "digite o primeiro lado5\n",
            "digite o segundo lado4\n",
            "digite o terceiro lado5\n",
            "é um triângulo? True\n",
            "é um triângulo equilátero? False\n",
            "é um triângulo isósceles? True\n",
            "é um triângulo escaleno? True\n"
          ]
        }
      ]
    },
    {
      "cell_type": "markdown",
      "source": [
        "##IMC ideal"
      ],
      "metadata": {
        "id": "-h9CHxcbHtJt"
      }
    },
    {
      "cell_type": "code",
      "source": [
        "#entrada\n",
        "altura= float(input(\"digite a sua altura\"))\n",
        "peso= float(input(\"digite o seu peso\"))\n",
        "\n",
        "#processamento\n",
        "IMC=int (peso/altura**2)\n",
        "IMC=round(IMC, 1)\n",
        "\n",
        "#saida\n",
        "print(\"seu IMc é, IMC\")\n",
        "print(IMC<18.5, \"abaixo do peso\")\n",
        "print(IMC>=18.5 and IMC<=24.9, \"peso normal\")\n",
        "print(IMC>=25 and IMC<29.9, \"sobrepeso\")\n",
        "print(IMC>=30 and IMC<=34.9, \"obesidade grau 1\")\n",
        "print(IMC>=35 and IMC<+39.9, \"obesidade grau 2\")\n",
        "(IMC>+40, \"obesidade grau 3\")"
      ],
      "metadata": {
        "colab": {
          "base_uri": "https://localhost:8080/"
        },
        "id": "UWlIKA51H23w",
        "outputId": "4d22fe7d-7df8-4055-a807-1683b46adbdf"
      },
      "execution_count": null,
      "outputs": [
        {
          "output_type": "stream",
          "name": "stdout",
          "text": [
            "digite a sua altura1.70\n",
            "digite o seu peso86\n",
            "seu IMc é, IMC\n",
            "False abaixo do peso\n",
            "False peso normal\n",
            "True sobrepeso\n",
            "False obesidade grau 1\n",
            "False obesidade grau 2\n"
          ]
        },
        {
          "output_type": "execute_result",
          "data": {
            "text/plain": [
              "(False, 'obesidade grau 3')"
            ]
          },
          "metadata": {},
          "execution_count": 81
        }
      ]
    },
    {
      "cell_type": "markdown",
      "source": [
        "##Entrada no volêi\n"
      ],
      "metadata": {
        "id": "MtgPs5DxQCN_"
      }
    },
    {
      "cell_type": "code",
      "source": [
        "print(\"-\"*45, \"VOLÊI\", 45*\"-\")\n",
        "\n",
        "#entrada\n",
        "idade=float(input(\"Me diga a sua idade: \"))\n",
        "altura=float(input(\"Me diga a sua altura: \"))\n",
        "\n",
        "#processamento\n",
        "\n",
        "#saída\n",
        "print(f\"Você pode participar {altura>=1.75 and idade>1.8}\")"
      ],
      "metadata": {
        "id": "9FvOc9mMQIVA",
        "colab": {
          "base_uri": "https://localhost:8080/"
        },
        "outputId": "7275713a-8982-4449-f530-8269fa6e88e1"
      },
      "execution_count": 5,
      "outputs": [
        {
          "output_type": "stream",
          "name": "stdout",
          "text": [
            "--------------------------------------------- VOLÊI ---------------------------------------------\n",
            "Me diga a sua idade: 29\n",
            "Me diga a sua altura: 2.70\n",
            "Você pode participar True\n"
          ]
        }
      ]
    }
  ]
}