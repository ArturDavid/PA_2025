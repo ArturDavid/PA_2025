{
  "nbformat": 4,
  "nbformat_minor": 0,
  "metadata": {
    "colab": {
      "provenance": [],
      "authorship_tag": "ABX9TyNmCKJ01QvZ0f3LTAadIFif",
      "include_colab_link": true
    },
    "kernelspec": {
      "name": "python3",
      "display_name": "Python 3"
    },
    "language_info": {
      "name": "python"
    }
  },
  "cells": [
    {
      "cell_type": "markdown",
      "metadata": {
        "id": "view-in-github",
        "colab_type": "text"
      },
      "source": [
        "<a href=\"https://colab.research.google.com/github/ArturDavid/PA_2025/blob/main/Aula_de_operadores.ipynb\" target=\"_parent\"><img src=\"https://colab.research.google.com/assets/colab-badge.svg\" alt=\"Open In Colab\"/></a>"
      ]
    },
    {
      "cell_type": "markdown",
      "source": [
        "# soma\n"
      ],
      "metadata": {
        "id": "yQf0jZcthiG4"
      }
    },
    {
      "cell_type": "code",
      "execution_count": 2,
      "metadata": {
        "colab": {
          "base_uri": "https://localhost:8080/"
        },
        "id": "H1XWG_SJg9MA",
        "outputId": "8fa1c8ad-e2cb-4557-c29a-0acacd8004c4"
      },
      "outputs": [
        {
          "output_type": "execute_result",
          "data": {
            "text/plain": [
              "32"
            ]
          },
          "metadata": {},
          "execution_count": 2
        }
      ],
      "source": [
        "16+16\n"
      ]
    },
    {
      "cell_type": "markdown",
      "source": [
        "#Subtraçao\n"
      ],
      "metadata": {
        "id": "9ReCQfn2h5Vy"
      }
    },
    {
      "cell_type": "code",
      "source": [
        "10-5"
      ],
      "metadata": {
        "colab": {
          "base_uri": "https://localhost:8080/"
        },
        "id": "MpRm_KPDiK6y",
        "outputId": "37c1da62-3bd2-4005-9aaa-bb15829b554d"
      },
      "execution_count": 3,
      "outputs": [
        {
          "output_type": "execute_result",
          "data": {
            "text/plain": [
              "5"
            ]
          },
          "metadata": {},
          "execution_count": 3
        }
      ]
    },
    {
      "cell_type": "markdown",
      "source": [
        "#Multiplicaçao"
      ],
      "metadata": {
        "id": "QmatS-ZHidU6"
      }
    },
    {
      "cell_type": "code",
      "source": [
        "2*4"
      ],
      "metadata": {
        "colab": {
          "base_uri": "https://localhost:8080/"
        },
        "id": "TTUjrrlfiiUJ",
        "outputId": "3f908678-b5b0-4bda-b233-d0f1c4250ef0"
      },
      "execution_count": 4,
      "outputs": [
        {
          "output_type": "execute_result",
          "data": {
            "text/plain": [
              "8"
            ]
          },
          "metadata": {},
          "execution_count": 4
        }
      ]
    },
    {
      "cell_type": "markdown",
      "source": [
        "#divisao"
      ],
      "metadata": {
        "id": "nBBMVGUAil53"
      }
    },
    {
      "cell_type": "markdown",
      "source": [
        "\n"
      ],
      "metadata": {
        "id": "Zs70leXAioRA"
      }
    },
    {
      "cell_type": "code",
      "source": [
        "50/4\n"
      ],
      "metadata": {
        "colab": {
          "base_uri": "https://localhost:8080/"
        },
        "id": "MkbzN4T_itEv",
        "outputId": "a9af23f7-5ab1-4ae5-885f-439808ffe8bd"
      },
      "execution_count": 5,
      "outputs": [
        {
          "output_type": "execute_result",
          "data": {
            "text/plain": [
              "12.5"
            ]
          },
          "metadata": {},
          "execution_count": 5
        }
      ]
    },
    {
      "cell_type": "markdown",
      "source": [
        "#igualdade"
      ],
      "metadata": {
        "id": "iyR7BsSMjDAu"
      }
    },
    {
      "cell_type": "code",
      "source": [
        "a = 4\n",
        "a==4"
      ],
      "metadata": {
        "colab": {
          "base_uri": "https://localhost:8080/"
        },
        "id": "pBNiBRZqjFgz",
        "outputId": "b67b2bd5-ce3a-4ef0-84a0-5e3aadb0d396"
      },
      "execution_count": 6,
      "outputs": [
        {
          "output_type": "execute_result",
          "data": {
            "text/plain": [
              "True"
            ]
          },
          "metadata": {},
          "execution_count": 6
        }
      ]
    },
    {
      "cell_type": "markdown",
      "source": [
        "#expoente"
      ],
      "metadata": {
        "id": "njF2y27OjXxO"
      }
    },
    {
      "cell_type": "markdown",
      "source": [],
      "metadata": {
        "id": "TA4tRYW_jZhI"
      }
    },
    {
      "cell_type": "code",
      "source": [
        "8**6"
      ],
      "metadata": {
        "colab": {
          "base_uri": "https://localhost:8080/"
        },
        "id": "VZktfGbmjaxn",
        "outputId": "a788a4bb-25ce-4b79-b39d-4e7b613a5e5f"
      },
      "execution_count": 7,
      "outputs": [
        {
          "output_type": "execute_result",
          "data": {
            "text/plain": [
              "262144"
            ]
          },
          "metadata": {},
          "execution_count": 7
        }
      ]
    },
    {
      "cell_type": "markdown",
      "source": [
        "maior,menor,maior ou igual\n"
      ],
      "metadata": {
        "id": "4tWT-QOpj-NW"
      }
    },
    {
      "cell_type": "code",
      "source": [
        "5>2"
      ],
      "metadata": {
        "colab": {
          "base_uri": "https://localhost:8080/"
        },
        "id": "5zRFHAWdkZAG",
        "outputId": "c1890b88-7fb6-4b19-bb4a-bbaf38c58f6f"
      },
      "execution_count": 8,
      "outputs": [
        {
          "output_type": "execute_result",
          "data": {
            "text/plain": [
              "True"
            ]
          },
          "metadata": {},
          "execution_count": 8
        }
      ]
    },
    {
      "cell_type": "code",
      "source": [
        "5>6\n"
      ],
      "metadata": {
        "colab": {
          "base_uri": "https://localhost:8080/"
        },
        "id": "1YHd4ucvkwlm",
        "outputId": "d772ab00-e255-49ae-ad59-fb6088783c94"
      },
      "execution_count": 9,
      "outputs": [
        {
          "output_type": "execute_result",
          "data": {
            "text/plain": [
              "False"
            ]
          },
          "metadata": {},
          "execution_count": 9
        }
      ]
    },
    {
      "cell_type": "code",
      "source": [
        "5<6"
      ],
      "metadata": {
        "colab": {
          "base_uri": "https://localhost:8080/"
        },
        "id": "i4KdSLQQlMSv",
        "outputId": "8f638065-3b06-4d2c-c0a7-af9f4baffbdf"
      },
      "execution_count": 10,
      "outputs": [
        {
          "output_type": "execute_result",
          "data": {
            "text/plain": [
              "True"
            ]
          },
          "metadata": {},
          "execution_count": 10
        }
      ]
    },
    {
      "cell_type": "code",
      "source": [
        "5<4\n"
      ],
      "metadata": {
        "colab": {
          "base_uri": "https://localhost:8080/"
        },
        "id": "ywvjS5lclSnF",
        "outputId": "72d50c86-f39b-4a15-bdb8-a10ab7074c77"
      },
      "execution_count": 11,
      "outputs": [
        {
          "output_type": "execute_result",
          "data": {
            "text/plain": [
              "False"
            ]
          },
          "metadata": {},
          "execution_count": 11
        }
      ]
    },
    {
      "cell_type": "code",
      "source": [
        "5>=5\n"
      ],
      "metadata": {
        "colab": {
          "base_uri": "https://localhost:8080/"
        },
        "id": "yasH5dBhltTO",
        "outputId": "4dea2613-0be5-4f6e-bb17-2cb03d1bbd9b"
      },
      "execution_count": 12,
      "outputs": [
        {
          "output_type": "execute_result",
          "data": {
            "text/plain": [
              "True"
            ]
          },
          "metadata": {},
          "execution_count": 12
        }
      ]
    },
    {
      "cell_type": "code",
      "source": [
        "10<=10\n"
      ],
      "metadata": {
        "colab": {
          "base_uri": "https://localhost:8080/"
        },
        "id": "rA2vHA3ymHvN",
        "outputId": "ef649840-0703-45d7-e140-162ab4937977"
      },
      "execution_count": 13,
      "outputs": [
        {
          "output_type": "execute_result",
          "data": {
            "text/plain": [
              "True"
            ]
          },
          "metadata": {},
          "execution_count": 13
        }
      ]
    },
    {
      "cell_type": "code",
      "source": [
        "10<=3\n"
      ],
      "metadata": {
        "colab": {
          "base_uri": "https://localhost:8080/"
        },
        "id": "xZCIhXGmmQmj",
        "outputId": "d66b225b-3507-4955-d730-b0527a2e8fef"
      },
      "execution_count": 14,
      "outputs": [
        {
          "output_type": "execute_result",
          "data": {
            "text/plain": [
              "False"
            ]
          },
          "metadata": {},
          "execution_count": 14
        }
      ]
    },
    {
      "cell_type": "code",
      "source": [
        "5-6+8+15*(6/2)+4-9\n"
      ],
      "metadata": {
        "colab": {
          "base_uri": "https://localhost:8080/"
        },
        "id": "QaoniEmdmdK1",
        "outputId": "87057df8-7221-43eb-ab55-67cc03408905"
      },
      "execution_count": 15,
      "outputs": [
        {
          "output_type": "execute_result",
          "data": {
            "text/plain": [
              "47.0"
            ]
          },
          "metadata": {},
          "execution_count": 15
        }
      ]
    },
    {
      "cell_type": "code",
      "source": [
        "a!=4\n"
      ],
      "metadata": {
        "colab": {
          "base_uri": "https://localhost:8080/"
        },
        "id": "nPTAns09naU1",
        "outputId": "3af8c2a3-c405-4343-ea07-89a19f24e07d"
      },
      "execution_count": 16,
      "outputs": [
        {
          "output_type": "execute_result",
          "data": {
            "text/plain": [
              "False"
            ]
          },
          "metadata": {},
          "execution_count": 16
        }
      ]
    },
    {
      "cell_type": "markdown",
      "source": [
        "#variaveis"
      ],
      "metadata": {
        "id": "oznJ_jasnsiE"
      }
    },
    {
      "cell_type": "code",
      "source": [
        "nome = \"Artur\"\n",
        "sobrenome = \"David\"\n",
        "\n",
        "print (\"Meu nome é\" + \" \" + nome + \" \" + \" \" +sobrenome)"
      ],
      "metadata": {
        "colab": {
          "base_uri": "https://localhost:8080/"
        },
        "id": "fZvVJMcdnvd9",
        "outputId": "41b720f8-2eb2-4b4e-b3f6-22823aa45148"
      },
      "execution_count": 22,
      "outputs": [
        {
          "output_type": "stream",
          "name": "stdout",
          "text": [
            "Meu nome é Artur  David\n"
          ]
        }
      ]
    },
    {
      "cell_type": "code",
      "source": [
        "nome = str(input('digite o seu nome: '))\n",
        "sobrenome = str(input('digite o seu sobrenome: '))\n",
        "\n",
        "print('Meu nome é ' + nome + ' ' + sobrenome)"
      ],
      "metadata": {
        "colab": {
          "base_uri": "https://localhost:8080/"
        },
        "id": "W0euDa62qEOx",
        "outputId": "c292490a-0c16-49a3-869a-1eb24efe73ce"
      },
      "execution_count": 26,
      "outputs": [
        {
          "output_type": "stream",
          "name": "stdout",
          "text": [
            "digite o seu nome: Artur\n",
            "digite o seu sobrenome: David\n",
            "Meu nome é Artur David\n"
          ]
        }
      ]
    },
    {
      "cell_type": "code",
      "source": [
        "print(nome)"
      ],
      "metadata": {
        "colab": {
          "base_uri": "https://localhost:8080/"
        },
        "id": "lmQCZ45At7Le",
        "outputId": "68fe2b1f-1fe8-47a1-e02a-7e9724ea2298"
      },
      "execution_count": 28,
      "outputs": [
        {
          "output_type": "stream",
          "name": "stdout",
          "text": [
            "Artur\n"
          ]
        }
      ]
    },
    {
      "cell_type": "markdown",
      "source": [
        "#"
      ],
      "metadata": {
        "id": "v-cA2WHduH0_"
      }
    },
    {
      "cell_type": "code",
      "source": [
        "\n",
        "#entrada\n",
        "lado=float(input('coloque lado: '))\n",
        "#processamento\n",
        "area = (lado * lado)\n",
        "#saida\n",
        "print('a area e', area)\n"
      ],
      "metadata": {
        "colab": {
          "base_uri": "https://localhost:8080/"
        },
        "id": "1Hw0sRBBuLh3",
        "outputId": "5a61d072-baeb-4677-c356-74a25e2fbe16"
      },
      "execution_count": 9,
      "outputs": [
        {
          "output_type": "stream",
          "name": "stdout",
          "text": [
            "coloque lado: 17.98\n",
            "a area e 323.28040000000004\n"
          ]
        }
      ]
    },
    {
      "cell_type": "code",
      "source": [
        "\n",
        "\n"
      ],
      "metadata": {
        "colab": {
          "base_uri": "https://localhost:8080/",
          "height": 106
        },
        "id": "_BJdbRoPvpzc",
        "outputId": "efe04ce5-0dbc-4242-c4ba-8953c8b7cd55"
      },
      "execution_count": 6,
      "outputs": [
        {
          "output_type": "error",
          "ename": "SyntaxError",
          "evalue": "invalid syntax (<ipython-input-6-b290200f3386>, line 3)",
          "traceback": [
            "\u001b[0;36m  File \u001b[0;32m\"<ipython-input-6-b290200f3386>\"\u001b[0;36m, line \u001b[0;32m3\u001b[0m\n\u001b[0;31m    area =\u001b[0m\n\u001b[0m          ^\u001b[0m\n\u001b[0;31mSyntaxError\u001b[0m\u001b[0;31m:\u001b[0m invalid syntax\n"
          ]
        }
      ]
    }
  ]
}