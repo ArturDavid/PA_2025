{
  "nbformat": 4,
  "nbformat_minor": 0,
  "metadata": {
    "colab": {
      "provenance": [],
      "authorship_tag": "ABX9TyOHTis8K1gcDbQWeb91KQ0Y",
      "include_colab_link": true
    },
    "kernelspec": {
      "name": "python3",
      "display_name": "Python 3"
    },
    "language_info": {
      "name": "python"
    }
  },
  "cells": [
    {
      "cell_type": "markdown",
      "metadata": {
        "id": "view-in-github",
        "colab_type": "text"
      },
      "source": [
        "<a href=\"https://colab.research.google.com/github/ArturDavid/PA_2025/blob/main/Aula_PA_(IF)09_05_25.ipynb\" target=\"_parent\"><img src=\"https://colab.research.google.com/assets/colab-badge.svg\" alt=\"Open In Colab\"/></a>"
      ]
    },
    {
      "cell_type": "code",
      "execution_count": null,
      "metadata": {
        "id": "OesvCMboECb1"
      },
      "outputs": [],
      "source": [
        "\n"
      ]
    },
    {
      "cell_type": "markdown",
      "source": [
        "#Aula 09.05.25\n",
        "##Variável com IF"
      ],
      "metadata": {
        "id": "s_cgHdzwEQmN"
      }
    },
    {
      "cell_type": "code",
      "source": [
        "num = int(input('Digite um número... '))\n",
        "\n",
        "if num % 2 == 0:\n",
        " print('Ele é par... ')\n",
        "\n",
        "else:\n",
        " print('Ele é impar... ')\n"
      ],
      "metadata": {
        "colab": {
          "base_uri": "https://localhost:8080/"
        },
        "id": "8ehnJSofEyLo",
        "outputId": "e63ba88d-e5e4-43cb-e6c1-067d3d0bc63e"
      },
      "execution_count": 63,
      "outputs": [
        {
          "output_type": "stream",
          "name": "stdout",
          "text": [
            "Digite um número... 8\n",
            "Ele é par... \n"
          ]
        }
      ]
    },
    {
      "cell_type": "markdown",
      "source": [
        "##Comparação de string"
      ],
      "metadata": {
        "id": "-QDQ8MZtGoqW"
      }
    },
    {
      "cell_type": "code",
      "source": [
        "#entrada\n",
        "usuario =str(input(\"Digite o seu nome \"))\n",
        "\n",
        "if (usuario == \"Artur\" or \"Gustavo V\" or \"Alex\" or \"Davy\" or \"Bruno\"):\n",
        " print(\"Acesso liberado\")\n",
        "\n",
        "else:\n",
        "  print(\"Acesso recusado\")\n",
        "\n"
      ],
      "metadata": {
        "colab": {
          "base_uri": "https://localhost:8080/"
        },
        "id": "wlWR52q2GsrN",
        "outputId": "7fbd4c09-cef8-40b2-ddd4-aae9ffc5bde4"
      },
      "execution_count": 31,
      "outputs": [
        {
          "output_type": "stream",
          "name": "stdout",
          "text": [
            "Digite o seu nome Josoares\n",
            "Acesso liberado\n"
          ]
        }
      ]
    },
    {
      "cell_type": "markdown",
      "source": [
        "##Ano bissexto ou não"
      ],
      "metadata": {
        "id": "Vujt7tS2JhI6"
      }
    },
    {
      "cell_type": "code",
      "source": [
        "#entrada\n",
        "ano = int(input(\"digite o seu ano: \"))\n",
        "\n",
        "\n",
        "ano_bissexto=ano/4;\n",
        "if(ano_bissexto==int(ano_bissexto)):\n",
        " print(f\"{ano} é um ano bissexto\")\n",
        "else:\n",
        "  print(f\"{ano} não é um ano bissexto\")"
      ],
      "metadata": {
        "colab": {
          "base_uri": "https://localhost:8080/"
        },
        "id": "9Ox3PgSpLkDF",
        "outputId": "24cf4e1e-5e9f-447b-cc70-8cc7542c303b"
      },
      "execution_count": 52,
      "outputs": [
        {
          "output_type": "stream",
          "name": "stdout",
          "text": [
            "digite o seu ano: 2024\n",
            "2024 é um ano bissexto\n"
          ]
        }
      ]
    },
    {
      "cell_type": "markdown",
      "source": [
        "##Maior ou menor de idade"
      ],
      "metadata": {
        "id": "usb54FDRNX9Z"
      }
    },
    {
      "cell_type": "code",
      "source": [
        "#entrada\n",
        "Idade = int(input(\"Digite a sua idade: \"))\n",
        "\n",
        "if(Idade>=18):\n",
        "  print(\"você é maior de idade\")\n",
        "\n",
        "else:\n",
        "  print(\"você é menor de idade\")"
      ],
      "metadata": {
        "colab": {
          "base_uri": "https://localhost:8080/"
        },
        "id": "79uZhFT2Na7r",
        "outputId": "e546a3f3-daee-4d29-a1a1-1688a1c46516"
      },
      "execution_count": 60,
      "outputs": [
        {
          "output_type": "stream",
          "name": "stdout",
          "text": [
            "Digite a sua idade: 17\n",
            "você é menor de idade\n"
          ]
        }
      ]
    }
  ]
}