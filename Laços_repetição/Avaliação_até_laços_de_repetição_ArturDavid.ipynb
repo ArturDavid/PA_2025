{
 "cells": [
  {
   "cell_type": "markdown",
   "metadata": {
    "id": "oncsAo0QKXM4"
   },
   "source": [
    "**Coloque seu nome aqui: Artur David Chagas Aguiar**"
   ]
  },
  {
   "cell_type": "markdown",
   "metadata": {
    "id": "2Wtw01VyHzBQ"
   },
   "source": [
    "1)Crie um programa em python que imprima números pares\n",
    "\n",
    "a) Pedir o usuário para digitar uma lista com mínimo 10 números\n",
    "\n",
    "b) Criar uma nova somente com numeros pares\n",
    "\n",
    "c) Imprimir números pares"
   ]
  },
  {
   "cell_type": "markdown",
   "metadata": {},
   "source": []
  },
  {
   "cell_type": "code",
   "execution_count": 36,
   "metadata": {},
   "outputs": [
    {
     "name": "stdin",
     "output_type": "stream",
     "text": [
      "Me dê uma lista de 10 números:  1\n",
      "Me dê uma lista de 10 números:  1\n",
      "Me dê uma lista de 10 números:  2\n",
      "Me dê uma lista de 10 números:  3\n",
      "Me dê uma lista de 10 números:  4\n",
      "Me dê uma lista de 10 números:  5\n",
      "Me dê uma lista de 10 números:  6\n",
      "Me dê uma lista de 10 números:  7\n",
      "Me dê uma lista de 10 números:  8\n",
      "Me dê uma lista de 10 números:  9\n"
     ]
    },
    {
     "name": "stdout",
     "output_type": "stream",
     "text": [
      "[4, 10]\n"
     ]
    }
   ],
   "source": [
    "p=[]\n",
    "\n",
    "for i in range(10):\n",
    "    n = int(input(\"Me dê uma lista de 10 números: \"))\n",
    "    if num%2 == 0:\n",
    "        p.append(n)\n",
    "\n",
    "print(pares)"
   ]
  },
  {
   "cell_type": "markdown",
   "metadata": {
    "id": "bBYPSr8JHpUA"
   },
   "source": [
    "2)Crie um programa que conte quantas vezes cada palavra aparece em uma frase.\n",
    "\n",
    "Pedir ao usuário para digitar uma frase. Imprimir a palavra e quantas vezes ela aparece"
   ]
  },
  {
   "cell_type": "code",
   "execution_count": 38,
   "metadata": {
    "id": "dQLlv-lPKPT4"
   },
   "outputs": [
    {
     "name": "stdin",
     "output_type": "stream",
     "text": [
      "Me dê uma frase:  eu amo comer coxinha e coxinha também\n"
     ]
    },
    {
     "name": "stdout",
     "output_type": "stream",
     "text": [
      "A palavra eu aparece 1 vezes\n",
      "A palavra amo aparece 1 vezes\n",
      "A palavra comer aparece 1 vezes\n",
      "A palavra coxinha aparece 2 vezes\n",
      "A palavra e aparece 1 vezes\n",
      "A palavra também aparece 1 vezes\n"
     ]
    }
   ],
   "source": [
    "fr = input(\"Me dê uma frase: \")\n",
    "\n",
    "plvs = fr.split()\n",
    "contagem = {}\n",
    "\n",
    "for plv in plvs:\n",
    "    if plv in contagem:\n",
    "        contagem[plv] += 1\n",
    "    else: contagem[plv] = 1\n",
    "for plv, quantidade in contagem.items():\n",
    "    print(F\"A palavra {plv} aparece {quantidade} vezes\")"
   ]
  },
  {
   "cell_type": "markdown",
   "metadata": {
    "id": "bbWz0aL2HjP3"
   },
   "source": [
    "3)Crie um programa em Python para avaliar um desfile de candidatas. O programa deve:\n",
    "\n",
    "a) Perguntar quantas candidatas vão participar.\n",
    "\n",
    "b) Perguntar o nome de cada candidata.\n",
    "\n",
    "c) Para cada candidata, receber 3 notas (uma de cada jurado).\n",
    "\n",
    "d) Somar as notas e guardar o total em um dicionário, onde a chave é o nome da candidata e o valor é a soma das notas.\n",
    "\n",
    "Mostrar ao final:\n",
    "\n",
    "a) A pontuação total de cada candidata.\n",
    "\n",
    "b) O nome da vencedora (a que tiver a maior pontuação)."
   ]
  },
  {
   "cell_type": "code",
   "execution_count": 23,
   "metadata": {
    "id": "wrhGujbvHebJ"
   },
   "outputs": [
    {
     "name": "stdin",
     "output_type": "stream",
     "text": [
      "Digite uma lista de n com no mínimo 10: 1, 3, 8, 9, 15, 32, 9 ,1, 2, 3 ,3\n"
     ]
    },
    {
     "ename": "ValueError",
     "evalue": "invalid literal for int() with base 10: '1, 3, 8, 9, 15, 32, 9 ,1, 2, 3 ,3'",
     "output_type": "error",
     "traceback": [
      "\u001b[1;31m---------------------------------------------------------------------------\u001b[0m",
      "\u001b[1;31mValueError\u001b[0m                                Traceback (most recent call last)",
      "Cell \u001b[1;32mIn[23], line 4\u001b[0m\n\u001b[0;32m      1\u001b[0m pares\u001b[38;5;241m=\u001b[39m[]\n\u001b[0;32m      3\u001b[0m \u001b[38;5;28;01mfor\u001b[39;00m i \u001b[38;5;129;01min\u001b[39;00m \u001b[38;5;28mrange\u001b[39m(\u001b[38;5;241m10\u001b[39m):\n\u001b[1;32m----> 4\u001b[0m     num\u001b[38;5;241m=\u001b[39m\u001b[38;5;28;43mint\u001b[39;49m\u001b[43m(\u001b[49m\u001b[38;5;28;43minput\u001b[39;49m\u001b[43m(\u001b[49m\u001b[38;5;124;43m\"\u001b[39;49m\u001b[38;5;124;43mDigite uma lista de n com no mínimo 10:\u001b[39;49m\u001b[38;5;124;43m\"\u001b[39;49m\u001b[43m)\u001b[49m\u001b[43m)\u001b[49m\n\u001b[0;32m      6\u001b[0m \u001b[38;5;28;01mif\u001b[39;00m num\u001b[38;5;241m%\u001b[39m\u001b[38;5;241m2\u001b[39m\u001b[38;5;241m==\u001b[39m\u001b[38;5;241m0\u001b[39m:\n\u001b[0;32m      7\u001b[0m     pares\u001b[38;5;241m.\u001b[39mappend(num)\n",
      "\u001b[1;31mValueError\u001b[0m: invalid literal for int() with base 10: '1, 3, 8, 9, 15, 32, 9 ,1, 2, 3 ,3'"
     ]
    }
   ],
   "source": [
    "qtd = int(input9\"quantas candidatas vão participar?\"))\n",
    "notas={}\n",
    "\n",
    "for i in range (qtd):\n",
    "    nome+ input(F\"/nDigite o nome da {i+1} candidata:\"))\n",
    "    total=0\n",
    "\n",
    "for j in range(3):\n",
    "    nota=float(input(F\"Digite a nota do jurado{j+1}para {nome}:\"))\n",
    "\n",
    "total+= nota\n",
    "notas[nome]=total\n"
   ]
  },
  {
   "cell_type": "code",
   "execution_count": null,
   "metadata": {},
   "outputs": [],
   "source": []
  },
  {
   "cell_type": "code",
   "execution_count": null,
   "metadata": {},
   "outputs": [],
   "source": []
  }
 ],
 "metadata": {
  "colab": {
   "provenance": []
  },
  "kernelspec": {
   "display_name": "Python 3 (ipykernel)",
   "language": "python",
   "name": "python3"
  },
  "language_info": {
   "codemirror_mode": {
    "name": "ipython",
    "version": 3
   },
   "file_extension": ".py",
   "mimetype": "text/x-python",
   "name": "python",
   "nbconvert_exporter": "python",
   "pygments_lexer": "ipython3",
   "version": "3.11.4"
  }
 },
 "nbformat": 4,
 "nbformat_minor": 4
}
