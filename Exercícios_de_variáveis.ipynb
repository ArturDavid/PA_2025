{
  "nbformat": 4,
  "nbformat_minor": 0,
  "metadata": {
    "colab": {
      "provenance": [],
      "authorship_tag": "ABX9TyPJpGB+s4eaP6wIk0GLYr5G",
      "include_colab_link": true
    },
    "kernelspec": {
      "name": "python3",
      "display_name": "Python 3"
    },
    "language_info": {
      "name": "python"
    }
  },
  "cells": [
    {
      "cell_type": "markdown",
      "metadata": {
        "id": "view-in-github",
        "colab_type": "text"
      },
      "source": [
        "<a href=\"https://colab.research.google.com/github/ArturDavid/PA_2025/blob/main/Exerc%C3%ADcios_de_vari%C3%A1veis.ipynb\" target=\"_parent\"><img src=\"https://colab.research.google.com/assets/colab-badge.svg\" alt=\"Open In Colab\"/></a>"
      ]
    },
    {
      "cell_type": "code",
      "execution_count": null,
      "metadata": {
        "id": "4bkdnFmOd2BA"
      },
      "outputs": [],
      "source": []
    },
    {
      "cell_type": "markdown",
      "source": [],
      "metadata": {
        "id": "6W-uDGCKm5Ba"
      }
    },
    {
      "cell_type": "markdown",
      "source": [
        "#Cálculo média de um aluno\n"
      ],
      "metadata": {
        "id": "rZzg7rSdfll1"
      }
    },
    {
      "cell_type": "code",
      "source": [
        "#entrada\n",
        "p1 = float(input('digite a primeira nota: '))\n",
        "p2 = float(input('digite a segunda nota: '))\n",
        "\n",
        "#processamento\n",
        "media = (p1+p2)/2\n",
        "\n",
        "#saída\n",
        "print ('a media do aluno é:', media)\n",
        "\n",
        "\n",
        "\n",
        "\n",
        "\n"
      ],
      "metadata": {
        "colab": {
          "base_uri": "https://localhost:8080/"
        },
        "id": "DvGV-8xzfsEk",
        "outputId": "cf009ce1-3340-4d0e-a5db-5aa02358a651"
      },
      "execution_count": 8,
      "outputs": [
        {
          "output_type": "stream",
          "name": "stdout",
          "text": [
            "digite a primeira nota: 30\n",
            "digite a segunda nota: 5\n",
            "a media do aluno é: 17.5\n"
          ]
        }
      ]
    },
    {
      "cell_type": "markdown",
      "source": [
        "#exercício 1"
      ],
      "metadata": {
        "id": "ulSJvnCUm-Bi"
      }
    },
    {
      "cell_type": "code",
      "source": [
        "#entrada\n",
        "valor = float(input('valor da peça: '))\n",
        "quantidade = int(input('quantidade de peças: '))\n",
        "\n",
        "#processamento\n",
        "valortotal = (quantidade*valor)\n",
        "\n",
        "#saída\n",
        "print ('o valor a ser pago e:', valortotal)\n",
        "\n",
        "\n",
        "\n",
        "\n",
        "\n",
        ""
      ],
      "metadata": {
        "colab": {
          "base_uri": "https://localhost:8080/"
        },
        "id": "GZaWJVNanHHB",
        "outputId": "b2daa78d-9d56-4c9f-db33-08b23d9844ca"
      },
      "execution_count": 20,
      "outputs": [
        {
          "output_type": "stream",
          "name": "stdout",
          "text": [
            "valor da peça: 15\n",
            "quantidade de peças: 5\n",
            "o valor a ser pago e: 75.0\n"
          ]
        }
      ]
    },
    {
      "cell_type": "code",
      "source": [
        "#entrada\n",
        "n1 = float(input('digite o numero:'))\n",
        "\n",
        "#processamento\n",
        "valor = (n1*3)\n",
        "\n",
        "#saida\n",
        "print ('valor igual a:', valor)"
      ],
      "metadata": {
        "colab": {
          "base_uri": "https://localhost:8080/"
        },
        "id": "U-1qUC45rxD9",
        "outputId": "11c16c94-bb30-4c12-cae4-4bc9a865e2aa"
      },
      "execution_count": 23,
      "outputs": [
        {
          "output_type": "stream",
          "name": "stdout",
          "text": [
            "digite o numero:5\n",
            "valor igual a: 15.0\n"
          ]
        }
      ]
    },
    {
      "cell_type": "markdown",
      "source": [
        "#converção de celcius para fahrenheit"
      ],
      "metadata": {
        "id": "SHExZ32Jthvr"
      }
    },
    {
      "cell_type": "code",
      "source": [
        "#entrada\n",
        "C = int(input('digite a temperatura em C: '))\n",
        "\n",
        "#processamento\n",
        "F = (32)+ C * 1.8\n",
        "\n",
        "#saída\n",
        "print ('a temperatura em F° é', F)"
      ],
      "metadata": {
        "colab": {
          "base_uri": "https://localhost:8080/"
        },
        "id": "7GpjQngktrgh",
        "outputId": "ea705578-9acf-4579-ffde-fcffb89c0749"
      },
      "execution_count": 20,
      "outputs": [
        {
          "output_type": "stream",
          "name": "stdout",
          "text": [
            "digite a temperatura em C: 23\n",
            "a temperatura em F° é 73.4\n"
          ]
        }
      ]
    },
    {
      "cell_type": "markdown",
      "source": [
        "#conversão KM em milha\n"
      ],
      "metadata": {
        "id": "NaniBhwey-qd"
      }
    },
    {
      "cell_type": "code",
      "source": [
        "#entrada\n",
        "km = float(input('digite a distancia em km: '))\n",
        "\n",
        "#processamento\n",
        "milha = km * 1.6\n",
        "\n",
        "#saída\n",
        "print ('a distância em milhas é de' , milha)\n"
      ],
      "metadata": {
        "colab": {
          "base_uri": "https://localhost:8080/"
        },
        "id": "JMdlqRH9zEXo",
        "outputId": "fecc38d0-2c44-4b47-fa8d-021938f49033"
      },
      "execution_count": 34,
      "outputs": [
        {
          "output_type": "stream",
          "name": "stdout",
          "text": [
            "digite a distancia em km: 96\n",
            "a distância em milhas é de 153.60000000000002\n"
          ]
        }
      ]
    }
  ]
}