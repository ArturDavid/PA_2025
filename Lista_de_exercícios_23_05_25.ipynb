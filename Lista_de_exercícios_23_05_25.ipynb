{
  "nbformat": 4,
  "nbformat_minor": 0,
  "metadata": {
    "colab": {
      "provenance": [],
      "authorship_tag": "ABX9TyNjoZEIJWm59vgHL0G5DuO8",
      "include_colab_link": true
    },
    "kernelspec": {
      "name": "python3",
      "display_name": "Python 3"
    },
    "language_info": {
      "name": "python"
    }
  },
  "cells": [
    {
      "cell_type": "markdown",
      "metadata": {
        "id": "view-in-github",
        "colab_type": "text"
      },
      "source": [
        "<a href=\"https://colab.research.google.com/github/ArturDavid/PA_2025/blob/main/Lista_de_exerc%C3%ADcios_23_05_25.ipynb\" target=\"_parent\"><img src=\"https://colab.research.google.com/assets/colab-badge.svg\" alt=\"Open In Colab\"/></a>"
      ]
    },
    {
      "cell_type": "code",
      "execution_count": null,
      "metadata": {
        "id": "-EOKjg9zTmvY"
      },
      "outputs": [],
      "source": []
    },
    {
      "cell_type": "markdown",
      "source": [
        "#Lista de exercícios"
      ],
      "metadata": {
        "id": "hwNva-OLTpw_"
      }
    },
    {
      "cell_type": "markdown",
      "source": [
        "##1) Par ou ímpar"
      ],
      "metadata": {
        "id": "GduSMPliTu7_"
      }
    },
    {
      "cell_type": "code",
      "source": [
        "#entrada\n",
        "num = int(input(\"Digite um número qualquer\"))\n",
        "\n",
        "if num %2 == 0:\n",
        "  print(\"ele é par (:  \")\n",
        "\n",
        "else:\n",
        "  print(\"ele é ímpar ):  \")\n",
        "\n",
        "\n"
      ],
      "metadata": {
        "colab": {
          "base_uri": "https://localhost:8080/"
        },
        "id": "e1FyC6aZT02H",
        "outputId": "d33f5dfc-b58f-49b7-e110-2caf1042be3d"
      },
      "execution_count": null,
      "outputs": [
        {
          "output_type": "stream",
          "name": "stdout",
          "text": [
            "Digite um número qualquer4\n",
            "ele é par (:  \n"
          ]
        }
      ]
    },
    {
      "cell_type": "markdown",
      "source": [
        "##2) Cálculo da média"
      ],
      "metadata": {
        "id": "NDQhBfVmU5QQ"
      }
    },
    {
      "cell_type": "code",
      "source": [
        "#entrada\n",
        "num1 = int(input(\"Digite o primeiro número\"))\n",
        "num2 = int(input(\"Digite o segundo número\"))\n",
        "num3 = int(input(\"Digite o terceiro número\"))\n",
        "formula = (num1 + num2 + num3)\n",
        "\n",
        "if formula < 6:\n",
        " print('Reprovado')\n",
        "\n",
        "else:\n",
        " print('Aprovado')"
      ],
      "metadata": {
        "colab": {
          "base_uri": "https://localhost:8080/"
        },
        "id": "C5sX5Z9jVCo3",
        "outputId": "af94197e-2743-4c04-b15c-dca319432fd7"
      },
      "execution_count": null,
      "outputs": [
        {
          "output_type": "stream",
          "name": "stdout",
          "text": [
            "Digite o primeiro número9\n",
            "Digite o segundo número9\n",
            "Digite o terceiro número7\n",
            "Aprovado\n"
          ]
        }
      ]
    },
    {
      "cell_type": "markdown",
      "source": [
        "##3) Verificar maioridade"
      ],
      "metadata": {
        "id": "qaAcjRCoW1kq"
      }
    },
    {
      "cell_type": "code",
      "source": [
        "#entrada\n",
        "idade = int(input(\"Digite a sua idade\"))\n",
        "\n",
        "if(idade>=18):\n",
        "  print(\"você é maior de idade\")\n",
        "\n",
        "else:\n",
        "  print(\"você é menor de idade\")\n"
      ],
      "metadata": {
        "colab": {
          "base_uri": "https://localhost:8080/"
        },
        "id": "yYruazwl_1qO",
        "outputId": "e050eb78-e44d-47a7-f523-a54276ce7cc6"
      },
      "execution_count": null,
      "outputs": [
        {
          "output_type": "stream",
          "name": "stdout",
          "text": [
            "Digite a sua idade28\n",
            "você é maior de idade\n"
          ]
        }
      ]
    },
    {
      "cell_type": "markdown",
      "source": [
        "##4) múltiplo de 5"
      ],
      "metadata": {
        "id": "mVU3a4_3CaTn"
      }
    },
    {
      "cell_type": "code",
      "source": [
        "#entrada\n",
        "num = int(input(\"digite um número\"))\n",
        "num2=num/5\n",
        "if(num2==int(num2)):\n",
        "  print(\"o número é múltiplo de 5\")\n",
        "\n",
        "else:\n",
        "  print(\"o número NÃO é múltiplo de 5\")"
      ],
      "metadata": {
        "colab": {
          "base_uri": "https://localhost:8080/"
        },
        "id": "d8W0YkBOCmKP",
        "outputId": "e4c4ed60-d170-4aff-b85b-c4e7dcb27bba"
      },
      "execution_count": null,
      "outputs": [
        {
          "output_type": "stream",
          "name": "stdout",
          "text": [
            "digite um número9\n",
            "o número NÃO é múltiplo de 5\n"
          ]
        }
      ]
    },
    {
      "cell_type": "markdown",
      "source": [
        "##5) cálculo do IMC"
      ],
      "metadata": {
        "id": "TuZYyezYEo9J"
      }
    },
    {
      "cell_type": "code",
      "source": [
        "#entrada\n",
        "\n",
        "peso = int(input(\"digite o seu peso\"))\n",
        "altura = float(input(\"digite a sua altura\"))\n",
        "\n",
        "IMC=(peso/altura**2)\n",
        "IMC=round(IMC, 1)\n",
        "\n",
        "if(IMC <18.5):\n",
        "  print(\"abaixo do peso\")\n",
        "\n",
        "elif(IMC>=18.5 and IMC<=24.9):\n",
        "  print(\"peso normal\")\n",
        "\n",
        "elif(IMC>=25 and IMC<29.9):\n",
        "  print(\"sobrepeso\")\n",
        "\n",
        "elif(IMC>=30 and IMC<=34.9):\n",
        "  print(\"obesidade grau 1\")\n",
        "\n",
        "elif (IMC>=35 and IMC<+39.9):\n",
        "  print(\"obesidade grau 2\")\n",
        "\n",
        "elif (IMC>+40):\n",
        "  print(\"obesidade grau 3\")"
      ],
      "metadata": {
        "colab": {
          "base_uri": "https://localhost:8080/"
        },
        "id": "ZcIsxkoGEz25",
        "outputId": "c06ffa64-2d7c-4686-9bfd-cba0ea37ad6d"
      },
      "execution_count": null,
      "outputs": [
        {
          "output_type": "stream",
          "name": "stdout",
          "text": [
            "digite o seu peso84\n",
            "digite a sua altura1.71\n",
            "sobrepeso\n"
          ]
        }
      ]
    },
    {
      "cell_type": "markdown",
      "source": [
        "##6) númerto positivo, negativo ou zero"
      ],
      "metadata": {
        "id": "L557v75uG6Vg"
      }
    },
    {
      "cell_type": "code",
      "source": [
        "#entrada\n",
        "num = int(input(\"digite um número\"))\n",
        "\n",
        "if(num<0):\n",
        "  print(\"o número é 0 ou negativo\")\n",
        "\n",
        "else:\n",
        "  print(\"o número é positivo\")"
      ],
      "metadata": {
        "id": "ZysPviyOHDcQ"
      },
      "execution_count": null,
      "outputs": []
    },
    {
      "cell_type": "markdown",
      "source": [
        "## 7) Calculadora simples"
      ],
      "metadata": {
        "id": "6EOt784oMI2-"
      }
    },
    {
      "cell_type": "code",
      "source": [
        "#entrada\n",
        "operacao = (input(\"Digite a operação desejada;  Soma, subtração, Mutiplicação ou divisão\"))\n",
        "\n",
        "p1 = int(input(\"Digite o primeiro número \"))\n",
        "p2 = int(input(\"Digite o segundo número \"))\n",
        "p3 = int(input(\"Digite o terceiro número \"))\n",
        "\n",
        "soma = p1+p2+p3\n",
        "subtracao = p1-p2-p3\n",
        "multiplicacao = p1*p2*p3\n",
        "divisao = p1/p2/p3\n",
        "\n",
        "print(f\"Resultou em: Soma {soma}, Subtração {subtracao}, Multiplicação {multiplicacao}, Divisão {divisao}\")"
      ],
      "metadata": {
        "colab": {
          "base_uri": "https://localhost:8080/"
        },
        "id": "ySIbmPEnMPIi",
        "outputId": "0c539eb5-d781-44d0-90a6-d9f2fcc3658c"
      },
      "execution_count": null,
      "outputs": [
        {
          "output_type": "stream",
          "name": "stdout",
          "text": [
            "Digite a operação desejada;  Soma, subtração, Mutiplicação ou divisãodivisão\n",
            "Digite o primeiro número 3\n",
            "Digite o segundo número 34\n",
            "Digite o terceiro número 5\n",
            "Resultou em: Soma 42, Subtração -36, Multiplicação 510, Divisão 0.01764705882352941\n"
          ]
        }
      ]
    },
    {
      "cell_type": "markdown",
      "source": [
        "##10) Tabuada de um número"
      ],
      "metadata": {
        "id": "cZvXx3NUUV9A"
      }
    },
    {
      "cell_type": "code",
      "source": [
        "#entrada\n",
        "num = int(input(\"digite um número\"))\n",
        "\n",
        "print(num*1)\n",
        "print(num*2)\n",
        "print(num*3)\n",
        "print(num*4)\n",
        "print(num*5)\n",
        "print(num*6)\n",
        "print(num*7)\n",
        "print(num*8)\n",
        "print(num*9)\n",
        "print(num*10)\n",
        "\n",
        "\n",
        "\n"
      ],
      "metadata": {
        "colab": {
          "base_uri": "https://localhost:8080/"
        },
        "id": "ugkwCkXuUcmZ",
        "outputId": "86d4860d-ae7d-49d6-da0c-b4ba23af07b1"
      },
      "execution_count": null,
      "outputs": [
        {
          "output_type": "stream",
          "name": "stdout",
          "text": [
            "digite um número5\n",
            "5\n",
            "10\n",
            "15\n",
            "20\n",
            "25\n",
            "30\n",
            "35\n",
            "40\n",
            "45\n",
            "50\n"
          ]
        }
      ]
    },
    {
      "cell_type": "markdown",
      "source": [
        "## 11) soma de 1 a 100"
      ],
      "metadata": {
        "id": "BNWmB1gDVYLy"
      }
    },
    {
      "cell_type": "code",
      "source": [
        "#entrada\n",
        "\n",
        "\n",
        "soma = (100*(100+1))/2\n",
        "print(soma)\n",
        "\n"
      ],
      "metadata": {
        "colab": {
          "base_uri": "https://localhost:8080/"
        },
        "id": "-4cqZJH8VeO8",
        "outputId": "9d68cc0d-c854-4537-e502-2bd93dce012c"
      },
      "execution_count": null,
      "outputs": [
        {
          "output_type": "stream",
          "name": "stdout",
          "text": [
            "5050.0\n"
          ]
        }
      ]
    },
    {
      "cell_type": "markdown",
      "source": [
        "12) Verificação de número primo"
      ],
      "metadata": {
        "id": "ABIOrrpsZko4"
      }
    },
    {
      "cell_type": "code",
      "source": [
        "#entrada\n",
        "num - int(input(\"digite um número\"))\n",
        "\n",
        "if(num)\n",
        "print(\"o número é primo\")\n",
        "\n",
        "else:\n",
        "  print(\"o número NÂO é primo\")\n",
        "\n",
        "  não consegui fazer, pesso desculpas"
      ],
      "metadata": {
        "colab": {
          "base_uri": "https://localhost:8080/",
          "height": 106
        },
        "id": "dCEDbQcyZscB",
        "outputId": "d88b8624-867d-4ddd-d7e6-956ae2e4a217"
      },
      "execution_count": null,
      "outputs": [
        {
          "output_type": "error",
          "ename": "SyntaxError",
          "evalue": "expected ':' (<ipython-input-83-62d91e192711>, line 4)",
          "traceback": [
            "\u001b[0;36m  File \u001b[0;32m\"<ipython-input-83-62d91e192711>\"\u001b[0;36m, line \u001b[0;32m4\u001b[0m\n\u001b[0;31m    if(num/2 == int)\u001b[0m\n\u001b[0m                    ^\u001b[0m\n\u001b[0;31mSyntaxError\u001b[0m\u001b[0;31m:\u001b[0m expected ':'\n"
          ]
        }
      ]
    },
    {
      "cell_type": "markdown",
      "source": [
        "##13) Busca em lista"
      ],
      "metadata": {
        "id": "ANUu9oiubWrb"
      }
    },
    {
      "cell_type": "code",
      "source": [
        "#entrada\n",
        "senha = int(input(\"digite a senha/número correto\"))\n",
        "\n",
        "lista={1,2,3,4,5,6,7,8,9,10}\n",
        "\n",
        "numero_correto = 8\n",
        "\n",
        "\n",
        "if (numero_correto in lista == 8):\n",
        "  print(\"o número está correto\")\n",
        "\n",
        "else:\n",
        "  print(\"o número está incorreto\")\n",
        "\n"
      ],
      "metadata": {
        "colab": {
          "base_uri": "https://localhost:8080/"
        },
        "id": "-zkDLZa1bcOk",
        "outputId": "95c0dfc1-8f0e-48b4-952f-96bd650af8d6"
      },
      "execution_count": 11,
      "outputs": [
        {
          "output_type": "stream",
          "name": "stdout",
          "text": [
            "digite a senha/número correto5\n",
            "o número está incorreto\n"
          ]
        }
      ]
    },
    {
      "cell_type": "markdown",
      "source": [
        "##14)Jogo de advinhação"
      ],
      "metadata": {
        "id": "LrNfSuVrHn8q"
      }
    },
    {
      "cell_type": "code",
      "source": [
        "#entrada\n",
        "num = int (input(\"advinhe o número entre 1 e 10\"))\n",
        "import random\n",
        "\n",
        "minha_lista = [1,2,3,4,5,6,7,8,9,10]\n",
        "numero_aleatorio = random.choice(minha_lista)\n",
        "\n",
        "print(f\"O número aleatório da lista é: {numero_aleatorio}\")\n",
        "\n"
      ],
      "metadata": {
        "colab": {
          "base_uri": "https://localhost:8080/"
        },
        "id": "qm6PYQpCHqG6",
        "outputId": "4d209e4a-ee7a-459e-bc9c-c115ef021819"
      },
      "execution_count": 18,
      "outputs": [
        {
          "output_type": "stream",
          "name": "stdout",
          "text": [
            "advinhe o número entre 1 e 105\n",
            "O número aleatório da lista é: 6\n"
          ]
        }
      ]
    }
  ]
}